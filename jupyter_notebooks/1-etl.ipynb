{
  "cells": [
    {
      "cell_type": "markdown",
      "metadata": {
        "id": "0aStgWSO0E0E"
      },
      "source": [
        "# **GLOBAL ELECTRIC VEHICLE SALES FROM 2010 - 2024**"
      ]
    },
    {
      "cell_type": "markdown",
      "metadata": {
        "id": "1eLEkw5O0ECa"
      },
      "source": [
        "## Objectives\n",
        "\n",
        "* The objective of this project is to analyse global Electric Vehicle sale trends between 2010 and 2024. \n",
        "* The analysis is to gain insights into which regions and contries of the world are leading in EV sales.\n",
        "* Understand the trends and interpret sales trends between 2010 and 2024 and the projections to 2035.\n",
        "* Gain insights from the data about the distribution of EV adoptions in the regions of the world\n",
        "* Analyse different correlations between different variations.\n",
        "\n",
        "The objectives above will be achieved by the following activities below; (ETL, EDA & Visualisation)\n",
        "- Fetch data from Kaggle and save it in the Inputs folder.\n",
        "- Preprocess the data.\n",
        "- Perform Exploratory Data Analysis (EDA) for data distribution.\n",
        "- Clean the data using different methods.\n",
        "- Create various charts and graphs to gain insights to the data.\n",
        "- Create and understand correlations to different variables of the data set.\n",
        "- Generate visualisations of different variables using different libraries in Python.\n",
        "- Use correlation heat maps to determine correlations to prove trends on variables.\n",
        "- Use Power Bi to gain further data insights and Correlations.\n",
        "\n",
        "\n",
        "\n",
        "## Inputs\n",
        "\n",
        "* Data set:Global-Electric-Vehicle-sales-trends-from-2010-2024\\Input\\IEA Global EV Data 2024.csv\n",
        "* Libraries to be used:NumPy, Pandas, Matplotlib, Seaborn, Plotly.\n",
        "* Input variables/features and target variable from dataset.\n",
        "\n",
        "## Outputs\n",
        "\n",
        "* Cleaned Dataset: Ready for use or exported to Power Bi dashboarding.\n",
        "* Exploratory Data Analysis (EDA):\n",
        "* Graphs and Charts\n",
        "* Correlations\n",
        "* Data insights\n",
        "* Evaluations\n",
        "\n",
        "\n",
        "## Additional Comments\n",
        "\n",
        "* If you have any additional comments that don't fit in the previous bullets, please state them here. \n",
        "\n"
      ]
    },
    {
      "cell_type": "markdown",
      "metadata": {
        "id": "9uWZXH9LwoQg"
      },
      "source": [
        "---"
      ]
    },
    {
      "cell_type": "markdown",
      "metadata": {
        "id": "cqP-UeN-z3i2"
      },
      "source": [
        "# Change working directory"
      ]
    },
    {
      "cell_type": "markdown",
      "metadata": {},
      "source": [
        "* We are assuming you will store the notebooks in a subfolder, therefore when running the notebook in the editor, you will need to change the working directory"
      ]
    },
    {
      "cell_type": "markdown",
      "metadata": {
        "id": "aOGIGS-uz3i2"
      },
      "source": [
        "We need to change the working directory from its current folder to its parent folder\n",
        "* We access the current directory with os.getcwd()"
      ]
    },
    {
      "cell_type": "code",
      "execution_count": 1,
      "metadata": {
        "id": "wZfF_j-Bz3i4",
        "outputId": "66943449-1436-4c3d-85c7-b85f9f78349b"
      },
      "outputs": [
        {
          "data": {
            "text/plain": [
              "'c:\\\\Users\\\\nmnko\\\\Documents\\\\vscode-projects\\\\Global-Electric-Vehicle-sales-trends-from-2010-2024\\\\jupyter_notebooks'"
            ]
          },
          "execution_count": 1,
          "metadata": {},
          "output_type": "execute_result"
        }
      ],
      "source": [
        "import os\n",
        "current_dir = os.getcwd()\n",
        "current_dir"
      ]
    },
    {
      "cell_type": "markdown",
      "metadata": {
        "id": "9MWW8E7lz3i7"
      },
      "source": [
        "We want to make the parent of the current directory the new current directory\n",
        "* os.path.dirname() gets the parent directory\n",
        "* os.chir() defines the new current directory"
      ]
    },
    {
      "cell_type": "code",
      "execution_count": 2,
      "metadata": {
        "id": "TwHsQRWjz3i9",
        "outputId": "86849db3-cd2f-4cc5-ebb8-2d0caafa1a2c"
      },
      "outputs": [
        {
          "name": "stdout",
          "output_type": "stream",
          "text": [
            "You set a new current directory\n"
          ]
        }
      ],
      "source": [
        "os.chdir(os.path.dirname(current_dir))\n",
        "print(\"You set a new current directory\")"
      ]
    },
    {
      "cell_type": "markdown",
      "metadata": {
        "id": "M_xPk_Ijz3i-"
      },
      "source": [
        "Confirm the new current directory"
      ]
    },
    {
      "cell_type": "code",
      "execution_count": 5,
      "metadata": {
        "id": "vz3S-_kjz3jA",
        "outputId": "00b79ae4-75d0-4a96-d193-ac9ef9847ea2"
      },
      "outputs": [
        {
          "data": {
            "text/plain": [
              "'c:\\\\Users\\\\nmnko\\\\Documents\\\\vscode-projects\\\\Global-Electric-Vehicle-sales-trends-from-2010-2024'"
            ]
          },
          "execution_count": 5,
          "metadata": {},
          "output_type": "execute_result"
        }
      ],
      "source": [
        "current_dir = os.getcwd()\n",
        "current_dir"
      ]
    },
    {
      "cell_type": "markdown",
      "metadata": {
        "id": "-mavJ8DibrcQ"
      },
      "source": [
        "# Section 1: Data Extraction, Transformation & Loading (ETL)"
      ]
    },
    {
      "cell_type": "markdown",
      "metadata": {},
      "source": [
        "Section 1 : Loading of the libraries that will be used.\n",
        "* Pandas -  To load a CSV file with Python, we will use a library called Pandas as It has a specific function that reads CSV files by parsing the file path.\n",
        "* NumPy - For processing data in arrays\n",
        "* Matplotlib -plotting Charts and graphs\n",
        "* Seaborn - plotting Charts and graphs\n",
        "* Plotly -  plotting Charts and graphs\n",
        "\n"
      ]
    },
    {
      "cell_type": "code",
      "execution_count": 3,
      "metadata": {},
      "outputs": [],
      "source": [
        "import pandas as pd \n",
        "import numpy as np\n",
        "import matplotlib.pyplot as plt\n",
        "import seaborn as sns\n",
        "sns.set_style('whitegrid')\n",
        "import plotly.express as px"
      ]
    },
    {
      "cell_type": "markdown",
      "metadata": {},
      "source": [
        "Data Extraction"
      ]
    },
    {
      "cell_type": "markdown",
      "metadata": {},
      "source": [
        "* Loading and reading of the CSV file data set and extracting it to a data frame using the following function: pd.read_csv(\"csv_file_example.csv\")"
      ]
    },
    {
      "cell_type": "code",
      "execution_count": 4,
      "metadata": {},
      "outputs": [],
      "source": [
        "df = pd.read_csv (\"input\\\\iea-global-ev-data-2024.csv\")"
      ]
    },
    {
      "cell_type": "markdown",
      "metadata": {},
      "source": [
        "Data set Generic information checking using the .info() method or function.\n",
        "* column names \n",
        "* datatypes of columns\n",
        "* number of entries and the memory space used through"
      ]
    },
    {
      "cell_type": "code",
      "execution_count": 5,
      "metadata": {},
      "outputs": [
        {
          "name": "stdout",
          "output_type": "stream",
          "text": [
            "<class 'pandas.core.frame.DataFrame'>\n",
            "RangeIndex: 12654 entries, 0 to 12653\n",
            "Data columns (total 8 columns):\n",
            " #   Column      Non-Null Count  Dtype  \n",
            "---  ------      --------------  -----  \n",
            " 0   region      12654 non-null  object \n",
            " 1   category    12654 non-null  object \n",
            " 2   parameter   12654 non-null  object \n",
            " 3   mode        12654 non-null  object \n",
            " 4   powertrain  12654 non-null  object \n",
            " 5   year        12654 non-null  int64  \n",
            " 6   unit        12654 non-null  object \n",
            " 7   value       12654 non-null  float64\n",
            "dtypes: float64(1), int64(1), object(6)\n",
            "memory usage: 791.0+ KB\n"
          ]
        }
      ],
      "source": [
        "df.info()"
      ]
    },
    {
      "cell_type": "markdown",
      "metadata": {},
      "source": [
        "Checking the top 5 rows and the number of columns of the data set to have an overview of the data frame using the .head() and .tail() methods "
      ]
    },
    {
      "cell_type": "markdown",
      "metadata": {},
      "source": [
        "Number of rows and columns"
      ]
    },
    {
      "cell_type": "code",
      "execution_count": 6,
      "metadata": {},
      "outputs": [
        {
          "data": {
            "text/plain": [
              "(12654, 8)"
            ]
          },
          "execution_count": 6,
          "metadata": {},
          "output_type": "execute_result"
        }
      ],
      "source": [
        "df.shape"
      ]
    },
    {
      "cell_type": "code",
      "execution_count": 7,
      "metadata": {},
      "outputs": [
        {
          "data": {
            "text/html": [
              "<div>\n",
              "<style scoped>\n",
              "    .dataframe tbody tr th:only-of-type {\n",
              "        vertical-align: middle;\n",
              "    }\n",
              "\n",
              "    .dataframe tbody tr th {\n",
              "        vertical-align: top;\n",
              "    }\n",
              "\n",
              "    .dataframe thead th {\n",
              "        text-align: right;\n",
              "    }\n",
              "</style>\n",
              "<table border=\"1\" class=\"dataframe\">\n",
              "  <thead>\n",
              "    <tr style=\"text-align: right;\">\n",
              "      <th></th>\n",
              "      <th>region</th>\n",
              "      <th>category</th>\n",
              "      <th>parameter</th>\n",
              "      <th>mode</th>\n",
              "      <th>powertrain</th>\n",
              "      <th>year</th>\n",
              "      <th>unit</th>\n",
              "      <th>value</th>\n",
              "    </tr>\n",
              "  </thead>\n",
              "  <tbody>\n",
              "    <tr>\n",
              "      <th>12649</th>\n",
              "      <td>World</td>\n",
              "      <td>Projection-STEPS</td>\n",
              "      <td>EV sales share</td>\n",
              "      <td>Cars</td>\n",
              "      <td>EV</td>\n",
              "      <td>2035</td>\n",
              "      <td>percent</td>\n",
              "      <td>55.0</td>\n",
              "    </tr>\n",
              "    <tr>\n",
              "      <th>12650</th>\n",
              "      <td>World</td>\n",
              "      <td>Projection-STEPS</td>\n",
              "      <td>EV stock share</td>\n",
              "      <td>Cars</td>\n",
              "      <td>EV</td>\n",
              "      <td>2035</td>\n",
              "      <td>percent</td>\n",
              "      <td>31.0</td>\n",
              "    </tr>\n",
              "    <tr>\n",
              "      <th>12651</th>\n",
              "      <td>World</td>\n",
              "      <td>Projection-APS</td>\n",
              "      <td>EV charging points</td>\n",
              "      <td>EV</td>\n",
              "      <td>Publicly available fast</td>\n",
              "      <td>2035</td>\n",
              "      <td>charging points</td>\n",
              "      <td>9400000.0</td>\n",
              "    </tr>\n",
              "    <tr>\n",
              "      <th>12652</th>\n",
              "      <td>World</td>\n",
              "      <td>Projection-APS</td>\n",
              "      <td>EV charging points</td>\n",
              "      <td>EV</td>\n",
              "      <td>Publicly available slow</td>\n",
              "      <td>2035</td>\n",
              "      <td>charging points</td>\n",
              "      <td>15000000.0</td>\n",
              "    </tr>\n",
              "    <tr>\n",
              "      <th>12653</th>\n",
              "      <td>World</td>\n",
              "      <td>Projection-STEPS</td>\n",
              "      <td>EV stock share</td>\n",
              "      <td>Trucks</td>\n",
              "      <td>EV</td>\n",
              "      <td>2035</td>\n",
              "      <td>percent</td>\n",
              "      <td>9.0</td>\n",
              "    </tr>\n",
              "  </tbody>\n",
              "</table>\n",
              "</div>"
            ],
            "text/plain": [
              "      region          category           parameter    mode  \\\n",
              "12649  World  Projection-STEPS      EV sales share    Cars   \n",
              "12650  World  Projection-STEPS      EV stock share    Cars   \n",
              "12651  World    Projection-APS  EV charging points      EV   \n",
              "12652  World    Projection-APS  EV charging points      EV   \n",
              "12653  World  Projection-STEPS      EV stock share  Trucks   \n",
              "\n",
              "                    powertrain  year             unit       value  \n",
              "12649                       EV  2035          percent        55.0  \n",
              "12650                       EV  2035          percent        31.0  \n",
              "12651  Publicly available fast  2035  charging points   9400000.0  \n",
              "12652  Publicly available slow  2035  charging points  15000000.0  \n",
              "12653                       EV  2035          percent         9.0  "
            ]
          },
          "execution_count": 7,
          "metadata": {},
          "output_type": "execute_result"
        }
      ],
      "source": [
        "\n",
        "\n",
        "df.head()\n",
        "df.tail()\n"
      ]
    },
    {
      "cell_type": "markdown",
      "metadata": {
        "id": "ZY3l0-AxO93d"
      },
      "source": [
        "---"
      ]
    },
    {
      "cell_type": "markdown",
      "metadata": {},
      "source": [
        "Checking for data types of the columns"
      ]
    },
    {
      "cell_type": "code",
      "execution_count": 8,
      "metadata": {},
      "outputs": [
        {
          "data": {
            "text/plain": [
              "region         object\n",
              "category       object\n",
              "parameter      object\n",
              "mode           object\n",
              "powertrain     object\n",
              "year            int64\n",
              "unit           object\n",
              "value         float64\n",
              "dtype: object"
            ]
          },
          "execution_count": 8,
          "metadata": {},
          "output_type": "execute_result"
        }
      ],
      "source": [
        "df.dtypes"
      ]
    },
    {
      "cell_type": "markdown",
      "metadata": {},
      "source": [
        "Checking if there is any missing data in the data set using the .isnull().sum() function"
      ]
    },
    {
      "cell_type": "code",
      "execution_count": 9,
      "metadata": {},
      "outputs": [
        {
          "data": {
            "text/plain": [
              "region        0\n",
              "category      0\n",
              "parameter     0\n",
              "mode          0\n",
              "powertrain    0\n",
              "year          0\n",
              "unit          0\n",
              "value         0\n",
              "dtype: int64"
            ]
          },
          "execution_count": 9,
          "metadata": {},
          "output_type": "execute_result"
        }
      ],
      "source": [
        "df.isnull().sum()"
      ]
    },
    {
      "cell_type": "markdown",
      "metadata": {},
      "source": [
        "Check if there is any duplicated values in the data set"
      ]
    },
    {
      "cell_type": "code",
      "execution_count": 13,
      "metadata": {},
      "outputs": [
        {
          "name": "stdout",
          "output_type": "stream",
          "text": [
            "Duplicate entries found: False .\n"
          ]
        }
      ],
      "source": [
        "duplicate_check = df.duplicated().any()\n",
        "print('Duplicate entries found:', duplicate_check,'.')"
      ]
    },
    {
      "cell_type": "markdown",
      "metadata": {},
      "source": [
        "Fill any missing values in the columns with zeros 0"
      ]
    },
    {
      "cell_type": "code",
      "execution_count": 14,
      "metadata": {},
      "outputs": [
        {
          "data": {
            "text/html": [
              "<div>\n",
              "<style scoped>\n",
              "    .dataframe tbody tr th:only-of-type {\n",
              "        vertical-align: middle;\n",
              "    }\n",
              "\n",
              "    .dataframe tbody tr th {\n",
              "        vertical-align: top;\n",
              "    }\n",
              "\n",
              "    .dataframe thead th {\n",
              "        text-align: right;\n",
              "    }\n",
              "</style>\n",
              "<table border=\"1\" class=\"dataframe\">\n",
              "  <thead>\n",
              "    <tr style=\"text-align: right;\">\n",
              "      <th></th>\n",
              "      <th>region</th>\n",
              "      <th>category</th>\n",
              "      <th>parameter</th>\n",
              "      <th>mode</th>\n",
              "      <th>powertrain</th>\n",
              "      <th>year</th>\n",
              "      <th>unit</th>\n",
              "      <th>value</th>\n",
              "    </tr>\n",
              "  </thead>\n",
              "  <tbody>\n",
              "    <tr>\n",
              "      <th>0</th>\n",
              "      <td>Australia</td>\n",
              "      <td>Historical</td>\n",
              "      <td>EV stock share</td>\n",
              "      <td>Cars</td>\n",
              "      <td>EV</td>\n",
              "      <td>2011</td>\n",
              "      <td>percent</td>\n",
              "      <td>3.900000e-04</td>\n",
              "    </tr>\n",
              "    <tr>\n",
              "      <th>1</th>\n",
              "      <td>Australia</td>\n",
              "      <td>Historical</td>\n",
              "      <td>EV sales share</td>\n",
              "      <td>Cars</td>\n",
              "      <td>EV</td>\n",
              "      <td>2011</td>\n",
              "      <td>percent</td>\n",
              "      <td>6.500000e-03</td>\n",
              "    </tr>\n",
              "    <tr>\n",
              "      <th>2</th>\n",
              "      <td>Australia</td>\n",
              "      <td>Historical</td>\n",
              "      <td>EV sales</td>\n",
              "      <td>Cars</td>\n",
              "      <td>BEV</td>\n",
              "      <td>2011</td>\n",
              "      <td>Vehicles</td>\n",
              "      <td>4.900000e+01</td>\n",
              "    </tr>\n",
              "    <tr>\n",
              "      <th>3</th>\n",
              "      <td>Australia</td>\n",
              "      <td>Historical</td>\n",
              "      <td>EV stock</td>\n",
              "      <td>Cars</td>\n",
              "      <td>BEV</td>\n",
              "      <td>2011</td>\n",
              "      <td>Vehicles</td>\n",
              "      <td>4.900000e+01</td>\n",
              "    </tr>\n",
              "    <tr>\n",
              "      <th>4</th>\n",
              "      <td>Australia</td>\n",
              "      <td>Historical</td>\n",
              "      <td>EV stock</td>\n",
              "      <td>Cars</td>\n",
              "      <td>BEV</td>\n",
              "      <td>2012</td>\n",
              "      <td>Vehicles</td>\n",
              "      <td>2.200000e+02</td>\n",
              "    </tr>\n",
              "    <tr>\n",
              "      <th>...</th>\n",
              "      <td>...</td>\n",
              "      <td>...</td>\n",
              "      <td>...</td>\n",
              "      <td>...</td>\n",
              "      <td>...</td>\n",
              "      <td>...</td>\n",
              "      <td>...</td>\n",
              "      <td>...</td>\n",
              "    </tr>\n",
              "    <tr>\n",
              "      <th>12649</th>\n",
              "      <td>World</td>\n",
              "      <td>Projection-STEPS</td>\n",
              "      <td>EV sales share</td>\n",
              "      <td>Cars</td>\n",
              "      <td>EV</td>\n",
              "      <td>2035</td>\n",
              "      <td>percent</td>\n",
              "      <td>5.500000e+01</td>\n",
              "    </tr>\n",
              "    <tr>\n",
              "      <th>12650</th>\n",
              "      <td>World</td>\n",
              "      <td>Projection-STEPS</td>\n",
              "      <td>EV stock share</td>\n",
              "      <td>Cars</td>\n",
              "      <td>EV</td>\n",
              "      <td>2035</td>\n",
              "      <td>percent</td>\n",
              "      <td>3.100000e+01</td>\n",
              "    </tr>\n",
              "    <tr>\n",
              "      <th>12651</th>\n",
              "      <td>World</td>\n",
              "      <td>Projection-APS</td>\n",
              "      <td>EV charging points</td>\n",
              "      <td>EV</td>\n",
              "      <td>Publicly available fast</td>\n",
              "      <td>2035</td>\n",
              "      <td>charging points</td>\n",
              "      <td>9.400000e+06</td>\n",
              "    </tr>\n",
              "    <tr>\n",
              "      <th>12652</th>\n",
              "      <td>World</td>\n",
              "      <td>Projection-APS</td>\n",
              "      <td>EV charging points</td>\n",
              "      <td>EV</td>\n",
              "      <td>Publicly available slow</td>\n",
              "      <td>2035</td>\n",
              "      <td>charging points</td>\n",
              "      <td>1.500000e+07</td>\n",
              "    </tr>\n",
              "    <tr>\n",
              "      <th>12653</th>\n",
              "      <td>World</td>\n",
              "      <td>Projection-STEPS</td>\n",
              "      <td>EV stock share</td>\n",
              "      <td>Trucks</td>\n",
              "      <td>EV</td>\n",
              "      <td>2035</td>\n",
              "      <td>percent</td>\n",
              "      <td>9.000000e+00</td>\n",
              "    </tr>\n",
              "  </tbody>\n",
              "</table>\n",
              "<p>12654 rows × 8 columns</p>\n",
              "</div>"
            ],
            "text/plain": [
              "          region          category           parameter    mode  \\\n",
              "0      Australia        Historical      EV stock share    Cars   \n",
              "1      Australia        Historical      EV sales share    Cars   \n",
              "2      Australia        Historical            EV sales    Cars   \n",
              "3      Australia        Historical            EV stock    Cars   \n",
              "4      Australia        Historical            EV stock    Cars   \n",
              "...          ...               ...                 ...     ...   \n",
              "12649      World  Projection-STEPS      EV sales share    Cars   \n",
              "12650      World  Projection-STEPS      EV stock share    Cars   \n",
              "12651      World    Projection-APS  EV charging points      EV   \n",
              "12652      World    Projection-APS  EV charging points      EV   \n",
              "12653      World  Projection-STEPS      EV stock share  Trucks   \n",
              "\n",
              "                    powertrain  year             unit         value  \n",
              "0                           EV  2011          percent  3.900000e-04  \n",
              "1                           EV  2011          percent  6.500000e-03  \n",
              "2                          BEV  2011         Vehicles  4.900000e+01  \n",
              "3                          BEV  2011         Vehicles  4.900000e+01  \n",
              "4                          BEV  2012         Vehicles  2.200000e+02  \n",
              "...                        ...   ...              ...           ...  \n",
              "12649                       EV  2035          percent  5.500000e+01  \n",
              "12650                       EV  2035          percent  3.100000e+01  \n",
              "12651  Publicly available fast  2035  charging points  9.400000e+06  \n",
              "12652  Publicly available slow  2035  charging points  1.500000e+07  \n",
              "12653                       EV  2035          percent  9.000000e+00  \n",
              "\n",
              "[12654 rows x 8 columns]"
            ]
          },
          "execution_count": 14,
          "metadata": {},
          "output_type": "execute_result"
        }
      ],
      "source": [
        "df.fillna(0)"
      ]
    },
    {
      "cell_type": "markdown",
      "metadata": {},
      "source": [
        "Counting the unique values for the different types of powertrains to understand the breakdown of the EV powertrain numbers"
      ]
    },
    {
      "cell_type": "code",
      "execution_count": 10,
      "metadata": {},
      "outputs": [
        {
          "data": {
            "text/plain": [
              "powertrain\n",
              "EV                         4894\n",
              "BEV                        3204\n",
              "PHEV                       2126\n",
              "FCEV                       1512\n",
              "Publicly available slow     463\n",
              "Publicly available fast     455\n",
              "Name: count, dtype: int64"
            ]
          },
          "execution_count": 10,
          "metadata": {},
          "output_type": "execute_result"
        }
      ],
      "source": [
        "df['powertrain'].value_counts()"
      ]
    },
    {
      "cell_type": "markdown",
      "metadata": {},
      "source": [
        "Perform Statistical tests on the dataset to generate discptive summary of statistics using the .describe() method"
      ]
    },
    {
      "cell_type": "code",
      "execution_count": 15,
      "metadata": {},
      "outputs": [
        {
          "data": {
            "text/html": [
              "<div>\n",
              "<style scoped>\n",
              "    .dataframe tbody tr th:only-of-type {\n",
              "        vertical-align: middle;\n",
              "    }\n",
              "\n",
              "    .dataframe tbody tr th {\n",
              "        vertical-align: top;\n",
              "    }\n",
              "\n",
              "    .dataframe thead th {\n",
              "        text-align: right;\n",
              "    }\n",
              "</style>\n",
              "<table border=\"1\" class=\"dataframe\">\n",
              "  <thead>\n",
              "    <tr style=\"text-align: right;\">\n",
              "      <th></th>\n",
              "      <th>year</th>\n",
              "      <th>value</th>\n",
              "    </tr>\n",
              "  </thead>\n",
              "  <tbody>\n",
              "    <tr>\n",
              "      <th>count</th>\n",
              "      <td>12654.000000</td>\n",
              "      <td>1.265400e+04</td>\n",
              "    </tr>\n",
              "    <tr>\n",
              "      <th>mean</th>\n",
              "      <td>2019.822112</td>\n",
              "      <td>4.273742e+05</td>\n",
              "    </tr>\n",
              "    <tr>\n",
              "      <th>std</th>\n",
              "      <td>5.476494</td>\n",
              "      <td>6.860498e+06</td>\n",
              "    </tr>\n",
              "    <tr>\n",
              "      <th>min</th>\n",
              "      <td>2010.000000</td>\n",
              "      <td>1.200000e-06</td>\n",
              "    </tr>\n",
              "    <tr>\n",
              "      <th>25%</th>\n",
              "      <td>2016.000000</td>\n",
              "      <td>2.000000e+00</td>\n",
              "    </tr>\n",
              "    <tr>\n",
              "      <th>50%</th>\n",
              "      <td>2020.000000</td>\n",
              "      <td>1.300000e+02</td>\n",
              "    </tr>\n",
              "    <tr>\n",
              "      <th>75%</th>\n",
              "      <td>2022.000000</td>\n",
              "      <td>5.500000e+03</td>\n",
              "    </tr>\n",
              "    <tr>\n",
              "      <th>max</th>\n",
              "      <td>2035.000000</td>\n",
              "      <td>4.400000e+08</td>\n",
              "    </tr>\n",
              "  </tbody>\n",
              "</table>\n",
              "</div>"
            ],
            "text/plain": [
              "               year         value\n",
              "count  12654.000000  1.265400e+04\n",
              "mean    2019.822112  4.273742e+05\n",
              "std        5.476494  6.860498e+06\n",
              "min     2010.000000  1.200000e-06\n",
              "25%     2016.000000  2.000000e+00\n",
              "50%     2020.000000  1.300000e+02\n",
              "75%     2022.000000  5.500000e+03\n",
              "max     2035.000000  4.400000e+08"
            ]
          },
          "execution_count": 15,
          "metadata": {},
          "output_type": "execute_result"
        }
      ],
      "source": [
        "df.describe()"
      ]
    },
    {
      "cell_type": "markdown",
      "metadata": {},
      "source": [
        "Place or save clean dataset in its location folder as a csv using the df.to_csv method"
      ]
    },
    {
      "cell_type": "markdown",
      "metadata": {},
      "source": [
        "* Dataframe converted to csv after cleaning and saved in a seperate folder from in the directory"
      ]
    },
    {
      "cell_type": "code",
      "execution_count": 10,
      "metadata": {},
      "outputs": [],
      "source": [
        "df.to_csv('cleaned-file\\\\cleaned.csv', index = False)"
      ]
    },
    {
      "cell_type": "markdown",
      "metadata": {
        "id": "uFQo3ycuO-v6"
      },
      "source": [
        "# Section 2"
      ]
    },
    {
      "cell_type": "markdown",
      "metadata": {},
      "source": [
        "Section 2 content"
      ]
    },
    {
      "cell_type": "code",
      "execution_count": null,
      "metadata": {},
      "outputs": [],
      "source": []
    },
    {
      "cell_type": "markdown",
      "metadata": {},
      "source": [
        "---"
      ]
    },
    {
      "cell_type": "markdown",
      "metadata": {},
      "source": [
        "NOTE"
      ]
    },
    {
      "cell_type": "markdown",
      "metadata": {},
      "source": [
        "* You may add as many sections as you want, as long as it supports your project workflow.\n",
        "* All notebook's cells should be run top-down (you can't create a dynamic wherein a given point you need to go back to a previous cell to execute some task, like go back to a previous cell and refresh a variable content)"
      ]
    },
    {
      "cell_type": "markdown",
      "metadata": {},
      "source": [
        "---"
      ]
    },
    {
      "cell_type": "markdown",
      "metadata": {
        "id": "ltNetd085qHf"
      },
      "source": [
        "# Push files to Repo"
      ]
    },
    {
      "cell_type": "markdown",
      "metadata": {},
      "source": [
        "* In cases where you don't need to push files to Repo, you may replace this section with \"Conclusions and Next Steps\" and state your conclusions and next steps."
      ]
    },
    {
      "cell_type": "code",
      "execution_count": null,
      "metadata": {
        "id": "aKlnIozA4eQO",
        "outputId": "fd09bc1f-adb1-4511-f6ce-492a6af570c0"
      },
      "outputs": [],
      "source": [
        "import os\n",
        "try:\n",
        "  # create your folder here\n",
        "  # os.makedirs(name='')\n",
        "except Exception as e:\n",
        "  print(e)\n"
      ]
    }
  ],
  "metadata": {
    "accelerator": "GPU",
    "colab": {
      "name": "Data Practitioner Jupyter Notebook.ipynb",
      "provenance": [],
      "toc_visible": true
    },
    "kernelspec": {
      "display_name": "Python 3",
      "language": "python",
      "name": "python3"
    },
    "language_info": {
      "codemirror_mode": {
        "name": "ipython",
        "version": 3
      },
      "file_extension": ".py",
      "mimetype": "text/x-python",
      "name": "python",
      "nbconvert_exporter": "python",
      "pygments_lexer": "ipython3",
      "version": "3.12.8"
    },
    "orig_nbformat": 2
  },
  "nbformat": 4,
  "nbformat_minor": 2
}
