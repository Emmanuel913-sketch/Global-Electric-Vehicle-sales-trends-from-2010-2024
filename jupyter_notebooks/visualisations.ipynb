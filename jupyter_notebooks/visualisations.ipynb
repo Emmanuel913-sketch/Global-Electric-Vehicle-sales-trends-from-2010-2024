{
 "cells": [
  {
   "cell_type": "markdown",
   "metadata": {},
   "source": [
    "# Maintain same Directory for the file"
   ]
  },
  {
   "cell_type": "markdown",
   "metadata": {},
   "source": [
    "We need to change the working directory from its current folder to its parent folder\n",
    "* We access the current directory with os.getcwd()"
   ]
  },
  {
   "cell_type": "code",
   "execution_count": 1,
   "metadata": {},
   "outputs": [
    {
     "data": {
      "text/plain": [
       "'c:\\\\Users\\\\nmnko\\\\Documents\\\\vscode-projects\\\\Global-Electric-Vehicle-sales-trends-from-2010-2024\\\\jupyter_notebooks'"
      ]
     },
     "execution_count": 1,
     "metadata": {},
     "output_type": "execute_result"
    }
   ],
   "source": [
    "import os\n",
    "current_dir = os.getcwd()\n",
    "current_dir"
   ]
  },
  {
   "cell_type": "markdown",
   "metadata": {},
   "source": [
    "We want to make the parent of the current directory the new current directory\n",
    "* os.path.dirname() gets the parent directory\n",
    "* os.chir() defines the new current directory"
   ]
  },
  {
   "cell_type": "code",
   "execution_count": 2,
   "metadata": {},
   "outputs": [
    {
     "name": "stdout",
     "output_type": "stream",
     "text": [
      "You set a new current directory\n"
     ]
    }
   ],
   "source": [
    "os.chdir(os.path.dirname(current_dir))\n",
    "print(\"You set a new current directory\")"
   ]
  },
  {
   "cell_type": "markdown",
   "metadata": {},
   "source": [
    "Confirm the new current directory"
   ]
  },
  {
   "cell_type": "code",
   "execution_count": 5,
   "metadata": {},
   "outputs": [
    {
     "data": {
      "text/plain": [
       "'c:\\\\Users\\\\nmnko\\\\Documents\\\\vscode-projects\\\\Global-Electric-Vehicle-sales-trends-from-2010-2024'"
      ]
     },
     "execution_count": 5,
     "metadata": {},
     "output_type": "execute_result"
    }
   ],
   "source": [
    "current_dir = os.getcwd()\n",
    "current_dir"
   ]
  },
  {
   "cell_type": "markdown",
   "metadata": {},
   "source": [
    "# Visualisations"
   ]
  },
  {
   "cell_type": "markdown",
   "metadata": {},
   "source": [
    "Load cleaned data set csv"
   ]
  },
  {
   "cell_type": "code",
   "execution_count": 4,
   "metadata": {},
   "outputs": [],
   "source": [
    "import pandas as pd \n",
    "import numpy as np\n",
    "import matplotlib.pyplot as plt\n",
    "import seaborn as sns\n",
    "sns.set_style('whitegrid')\n",
    "import plotly.express as px"
   ]
  },
  {
   "cell_type": "markdown",
   "metadata": {},
   "source": [
    "Showing the column headers again for use in visualisation further down"
   ]
  },
  {
   "cell_type": "code",
   "execution_count": 26,
   "metadata": {},
   "outputs": [
    {
     "data": {
      "text/html": [
       "<div>\n",
       "<style scoped>\n",
       "    .dataframe tbody tr th:only-of-type {\n",
       "        vertical-align: middle;\n",
       "    }\n",
       "\n",
       "    .dataframe tbody tr th {\n",
       "        vertical-align: top;\n",
       "    }\n",
       "\n",
       "    .dataframe thead th {\n",
       "        text-align: right;\n",
       "    }\n",
       "</style>\n",
       "<table border=\"1\" class=\"dataframe\">\n",
       "  <thead>\n",
       "    <tr style=\"text-align: right;\">\n",
       "      <th></th>\n",
       "      <th>region</th>\n",
       "      <th>category</th>\n",
       "      <th>parameter</th>\n",
       "      <th>mode</th>\n",
       "      <th>powertrain</th>\n",
       "      <th>year</th>\n",
       "      <th>unit</th>\n",
       "      <th>value</th>\n",
       "    </tr>\n",
       "  </thead>\n",
       "  <tbody>\n",
       "    <tr>\n",
       "      <th>12649</th>\n",
       "      <td>World</td>\n",
       "      <td>Projection-STEPS</td>\n",
       "      <td>EV sales share</td>\n",
       "      <td>Cars</td>\n",
       "      <td>EV</td>\n",
       "      <td>2035</td>\n",
       "      <td>percent</td>\n",
       "      <td>55.0</td>\n",
       "    </tr>\n",
       "    <tr>\n",
       "      <th>12650</th>\n",
       "      <td>World</td>\n",
       "      <td>Projection-STEPS</td>\n",
       "      <td>EV stock share</td>\n",
       "      <td>Cars</td>\n",
       "      <td>EV</td>\n",
       "      <td>2035</td>\n",
       "      <td>percent</td>\n",
       "      <td>31.0</td>\n",
       "    </tr>\n",
       "    <tr>\n",
       "      <th>12651</th>\n",
       "      <td>World</td>\n",
       "      <td>Projection-APS</td>\n",
       "      <td>EV charging points</td>\n",
       "      <td>EV</td>\n",
       "      <td>Publicly available fast</td>\n",
       "      <td>2035</td>\n",
       "      <td>charging points</td>\n",
       "      <td>9400000.0</td>\n",
       "    </tr>\n",
       "    <tr>\n",
       "      <th>12652</th>\n",
       "      <td>World</td>\n",
       "      <td>Projection-APS</td>\n",
       "      <td>EV charging points</td>\n",
       "      <td>EV</td>\n",
       "      <td>Publicly available slow</td>\n",
       "      <td>2035</td>\n",
       "      <td>charging points</td>\n",
       "      <td>15000000.0</td>\n",
       "    </tr>\n",
       "    <tr>\n",
       "      <th>12653</th>\n",
       "      <td>World</td>\n",
       "      <td>Projection-STEPS</td>\n",
       "      <td>EV stock share</td>\n",
       "      <td>Trucks</td>\n",
       "      <td>EV</td>\n",
       "      <td>2035</td>\n",
       "      <td>percent</td>\n",
       "      <td>9.0</td>\n",
       "    </tr>\n",
       "  </tbody>\n",
       "</table>\n",
       "</div>"
      ],
      "text/plain": [
       "      region          category           parameter    mode  \\\n",
       "12649  World  Projection-STEPS      EV sales share    Cars   \n",
       "12650  World  Projection-STEPS      EV stock share    Cars   \n",
       "12651  World    Projection-APS  EV charging points      EV   \n",
       "12652  World    Projection-APS  EV charging points      EV   \n",
       "12653  World  Projection-STEPS      EV stock share  Trucks   \n",
       "\n",
       "                    powertrain  year             unit       value  \n",
       "12649                       EV  2035          percent        55.0  \n",
       "12650                       EV  2035          percent        31.0  \n",
       "12651  Publicly available fast  2035  charging points   9400000.0  \n",
       "12652  Publicly available slow  2035  charging points  15000000.0  \n",
       "12653                       EV  2035          percent         9.0  "
      ]
     },
     "execution_count": 26,
     "metadata": {},
     "output_type": "execute_result"
    }
   ],
   "source": [
    "df.head()\n",
    "df.tail()"
   ]
  },
  {
   "cell_type": "markdown",
   "metadata": {},
   "source": [
    "1. Check data set vehicles representation per vehicle mode"
   ]
  },
  {
   "cell_type": "code",
   "execution_count": 20,
   "metadata": {},
   "outputs": [
    {
     "name": "stdout",
     "output_type": "stream",
     "text": [
      "     mode  count\n",
      "0    Cars   4706\n",
      "1   Buses   2696\n",
      "2    Vans   2568\n",
      "3  Trucks   1766\n",
      "4      EV    918\n"
     ]
    }
   ],
   "source": [
    "data = pd.read_csv (\"cleaned-file\\\\cleaned.csv\")\n",
    "vehicle_mode_count = data['mode'].value_counts().reset_index()\n",
    "vehicle_mode_count.columns = ['mode', 'count']\n",
    "print(vehicle_mode_count)"
   ]
  },
  {
   "cell_type": "markdown",
   "metadata": {},
   "source": [
    "Visualisation of data set representation per vehicle mode"
   ]
  },
  {
   "cell_type": "code",
   "execution_count": 21,
   "metadata": {},
   "outputs": [
    {
     "name": "stderr",
     "output_type": "stream",
     "text": [
      "C:\\Users\\nmnko\\AppData\\Local\\Temp\\ipykernel_63360\\308294570.py:2: FutureWarning: \n",
      "\n",
      "Passing `palette` without assigning `hue` is deprecated and will be removed in v0.14.0. Assign the `x` variable to `hue` and set `legend=False` for the same effect.\n",
      "\n",
      "  sns.barplot(y=\"count\", x=\"mode\", data=vehicle_mode_count, palette=sns.color_palette(\"pastel\"))\n",
      "C:\\Users\\nmnko\\AppData\\Local\\Temp\\ipykernel_63360\\308294570.py:2: UserWarning: The palette list has more values (10) than needed (5), which may not be intended.\n",
      "  sns.barplot(y=\"count\", x=\"mode\", data=vehicle_mode_count, palette=sns.color_palette(\"pastel\"))\n"
     ]
    },
    {
     "data": {
      "image/png": "[encoded data removed]",
      "text/plain": [
       "<Figure size 600x400 with 1 Axes>"
      ]
     },
     "metadata": {},
     "output_type": "display_data"
    }
   ],
   "source": [
    "plt.figure(figsize=(6, 4))\n",
    "sns.barplot(y=\"count\", x=\"mode\", data=vehicle_mode_count, palette=sns.color_palette(\"pastel\"))\n",
    "plt.title(\"EV sales per region\")\n",
    "plt.xlabel(\"Vehicle mode\")\n",
    "plt.ylabel(\"Count\")\n",
    "plt.show()"
   ]
  },
  {
   "cell_type": "markdown",
   "metadata": {},
   "source": [
    "2. Check data set vehicles representation per world region"
   ]
  },
  {
   "cell_type": "code",
   "execution_count": 27,
   "metadata": {},
   "outputs": [
    {
     "name": "stdout",
     "output_type": "stream",
     "text": [
      "                  region  count\n",
      "0                  World   1250\n",
      "1                 Europe   1234\n",
      "2                  China   1138\n",
      "3      Rest of the world    954\n",
      "4                    USA    737\n",
      "5                  India    702\n",
      "6                   EU27    424\n",
      "7            Netherlands    358\n",
      "8                 France    358\n",
      "9         United Kingdom    345\n",
      "10               Denmark    319\n",
      "11               Belgium    310\n",
      "12               Germany    298\n",
      "13                Norway    270\n",
      "14                Sweden    269\n",
      "15                 Japan    260\n",
      "16           Switzerland    245\n",
      "17                 Spain    245\n",
      "18                Canada    240\n",
      "19                 Italy    230\n",
      "20                 Korea    209\n",
      "21               Finland    200\n",
      "22                Poland    194\n",
      "23              Portugal    189\n",
      "24           New Zealand    185\n",
      "25                Brazil    183\n",
      "26                Israel    148\n",
      "27               Austria    116\n",
      "28               Iceland    115\n",
      "29                 Chile    103\n",
      "30             Australia     94\n",
      "31                Mexico     87\n",
      "32                Greece     83\n",
      "33          South Africa     83\n",
      "34               Turkiye     83\n",
      "35                Latvia     27\n",
      "36               Hungary     27\n",
      "37               Ireland     27\n",
      "38              Colombia     27\n",
      "39            Costa Rica     27\n",
      "40              Bulgaria     25\n",
      "41               Estonia     25\n",
      "42        Czech Republic     24\n",
      "43              Slovenia     24\n",
      "44              Slovakia     23\n",
      "45               Romania     19\n",
      "46             Lithuania     19\n",
      "47            Seychelles     18\n",
      "48  United Arab Emirates     18\n",
      "49            Luxembourg     15\n",
      "50               Croatia     15\n",
      "51              Thailand     14\n",
      "52                Cyprus     14\n",
      "53             Indonesia      8\n"
     ]
    }
   ],
   "source": [
    "data = pd.read_csv (\"cleaned-file\\\\cleaned.csv\")\n",
    "vehicle_count_per_region = data['region'].value_counts().reset_index()\n",
    "vehicle_count_per_region.columns = ['region', 'count']\n",
    "print(vehicle_count_per_region)"
   ]
  },
  {
   "cell_type": "markdown",
   "metadata": {},
   "source": []
  }
 ],
 "metadata": {
  "kernelspec": {
   "display_name": "Python 3",
   "language": "python",
   "name": "python3"
  },
  "language_info": {
   "codemirror_mode": {
    "name": "ipython",
    "version": 3
   },
   "file_extension": ".py",
   "mimetype": "text/x-python",
   "name": "python",
   "nbconvert_exporter": "python",
   "pygments_lexer": "ipython3",
   "version": "3.12.8"
  }
 },
 "nbformat": 4,
 "nbformat_minor": 2
}
